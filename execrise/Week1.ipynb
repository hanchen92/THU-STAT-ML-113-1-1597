{
 "cells": [
  {
   "cell_type": "markdown",
   "id": "61a53b3c-1a0d-449d-ad90-bddb3cefaeb0",
   "metadata": {},
   "source": [
    "# Execrise (Week 1)"
   ]
  },
  {
   "cell_type": "markdown",
   "id": "36851daa-eeca-4ebc-9275-2a698964104c",
   "metadata": {},
   "source": [
    "This exercise involves the Boston housing data set. You can find the data at the following website. <br>\n",
    "(https://raw.githubusercontent.com/hanchen92/THU-STAT-ML-113-1-1597/main/data/Boston.csv)"
   ]
  },
  {
   "cell_type": "markdown",
   "id": "cb3ceede-ba8b-4992-ab5e-6b71401232ea",
   "metadata": {},
   "source": [
    "The following shows the explanation of Boston data.\n",
    "\n",
    "`crim`: per capita crime rate by town.<br>\n",
    "`zn`: proportion of residential land zoned for lots over 25,000 sq.ft.<br>\n",
    "`indus`: proportion of non-retail business acres per town.<br>\n",
    "`chas`: Charles River dummy variable (= 1 if tract bounds(靠近河邊) river; 0 otherwise).<br>\n",
    "`nox`: nitrogen oxides concentration (parts per 10 million).<br>\n",
    "`rm`: average number of rooms per dwelling.<br>\n",
    "`age`: proportion of owner-occupied units built prior to 1940.<br>\n",
    "`dis`: weighted mean of distances to five Boston employment centres.<br>\n",
    "`rad`: index of accessibility to radial highways.<br>\n",
    "`tax`: full-value property-tax rate per \\$10,000.<br>\n",
    "`ptratio`: pupil-teacher ratio by town.<br>\n",
    "`lstat`: lower status of the population (percent).<br>\n",
    "`medv`: median value of owner-occupied homes in \\$1000s."
   ]
  },
  {
   "cell_type": "markdown",
   "id": "6414d281-284e-44e2-acf8-9d21bb63e48d",
   "metadata": {},
   "source": [
    "(a) To begin, load in the Boston data set by using pandas package."
   ]
  },
  {
   "cell_type": "code",
   "execution_count": null,
   "id": "397c7218-fc18-46be-98ee-e3232379d277",
   "metadata": {},
   "outputs": [],
   "source": []
  },
  {
   "cell_type": "markdown",
   "id": "bee73e18-6665-4c90-931a-07f2a9f3ca48",
   "metadata": {},
   "source": [
    "(b) How many rows are in this data set? How many columns?"
   ]
  },
  {
   "cell_type": "code",
   "execution_count": null,
   "id": "d010a3f5-4431-48b6-94f2-9aa3cef9edb6",
   "metadata": {},
   "outputs": [],
   "source": []
  },
  {
   "cell_type": "markdown",
   "id": "18ba40e4-5ff1-429e-a490-98b947d67851",
   "metadata": {},
   "source": [
    "(c) Make some pairwise scatterplots of the predictors (columns) in this data set. "
   ]
  },
  {
   "cell_type": "code",
   "execution_count": null,
   "id": "76de8e08-4c00-4a4b-a96e-7c4e847d165c",
   "metadata": {},
   "outputs": [],
   "source": []
  },
  {
   "cell_type": "markdown",
   "id": "6d0aa6ff-e414-4f75-b227-5b32f27dc4ca",
   "metadata": {},
   "source": [
    "(d) Are any of the predictors associated with per capita crime rate? If so, explain the relationship."
   ]
  },
  {
   "cell_type": "code",
   "execution_count": null,
   "id": "a029d743-bb1a-43ef-be9e-bfed8f36d144",
   "metadata": {},
   "outputs": [],
   "source": []
  },
  {
   "cell_type": "markdown",
   "id": "e30440e0-b1d9-4386-aa3e-d29954ee13da",
   "metadata": {},
   "source": [
    "(e) Do any of the suburbs of Boston appear to have particularly high crime rates? Tax rates? Pupil-teacher ratios? Comment on\n",
    "the range of each predictor."
   ]
  },
  {
   "cell_type": "code",
   "execution_count": null,
   "id": "e9602688-0fbb-4be7-b1bf-e3590d6778d0",
   "metadata": {},
   "outputs": [],
   "source": []
  },
  {
   "cell_type": "markdown",
   "id": "48a59ff2-d6c8-4f1b-a82e-d136933d7940",
   "metadata": {},
   "source": [
    "(f) How many of the suburbs in this data set bound the Charles river?"
   ]
  },
  {
   "cell_type": "code",
   "execution_count": null,
   "id": "b6f80e83-6912-47c6-b1b6-9f9d90d7a025",
   "metadata": {},
   "outputs": [],
   "source": []
  },
  {
   "cell_type": "markdown",
   "id": "e0603067-81a5-4fed-b3b3-d4633132513b",
   "metadata": {},
   "source": [
    "(g)  What is the median pupil-teacher ratio among the towns in this data set?"
   ]
  },
  {
   "cell_type": "code",
   "execution_count": null,
   "id": "9fc9193d-9fc7-45a5-9d56-79bc29d6b0f3",
   "metadata": {},
   "outputs": [],
   "source": []
  },
  {
   "cell_type": "markdown",
   "id": "9df2d48d-d88f-4d00-9ceb-36d1cdedc240",
   "metadata": {},
   "source": [
    "(h) Which suburb of Boston has lowest median value of owner occupied homes? What are the values of the other predictors for that suburb, and how do those values compare to the overall ranges for those predictors."
   ]
  },
  {
   "cell_type": "code",
   "execution_count": null,
   "id": "44d36cb9-48f5-4ad2-9449-a2df6b413722",
   "metadata": {},
   "outputs": [],
   "source": []
  },
  {
   "cell_type": "markdown",
   "id": "42bc31fb-5743-4c2d-8a65-5f8f867f500f",
   "metadata": {},
   "source": [
    "(i) In this data set, how many of the suburbs average more than seven rooms per dwelling?"
   ]
  },
  {
   "cell_type": "code",
   "execution_count": null,
   "id": "cd1a8680-37a4-447a-b3fa-d9b6d9d555ef",
   "metadata": {},
   "outputs": [],
   "source": []
  }
 ],
 "metadata": {
  "kernelspec": {
   "display_name": "Python 3 (ipykernel)",
   "language": "python",
   "name": "python3"
  },
  "language_info": {
   "codemirror_mode": {
    "name": "ipython",
    "version": 3
   },
   "file_extension": ".py",
   "mimetype": "text/x-python",
   "name": "python",
   "nbconvert_exporter": "python",
   "pygments_lexer": "ipython3",
   "version": "3.12.4"
  }
 },
 "nbformat": 4,
 "nbformat_minor": 5
}
